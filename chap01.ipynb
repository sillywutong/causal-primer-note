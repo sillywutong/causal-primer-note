{
 "cells": [
  {
   "cell_type": "markdown",
   "metadata": {},
   "source": [
    "# 1.2\n",
    "## 1.2.3\n",
    "(a) There are two treatments used on kidney stones: Treatment $A$ and Treatment $B$. Doctors are more likely to use Treatment $B$ on small stones. Should a patient who doesn't know the size of his or her stone examine the general population data, or the stone size-specific data when determining which treatment will be more effective?\n",
    "\n",
    "*The size of the kidney stones will affect the application of treatments and the effects, so it's a confounder between treatment and the outcome. We should look at the segregated data (i.e., conditioned on the confounder) to determine which treatment to use.*"
   ]
  },
  {
   "cell_type": "markdown",
   "metadata": {},
   "source": [
    "(b) There are two doctors in a small town. Each has performed 100 surgeries in his career, which are of two types: one very difficult surgery and one very easy surgery. The first doctor performs the easy surgery much more often than the difficult surgery and the second doctor performs the difficult surgery more often than the easy surgery. You need surgery, but you do not know whether your case is easy or difficult. Should you consult the success rate of each doctor over all cases, or should you consult their success rates for the easy and difficult cases separately, to maximize the chance of a successful surgery?\n",
    "\n",
    "*The doctors are associated with the difficulty of the surgery. Although there is no clear causal effect of difficulty on the choice of doctors, there might be some reason ($Z$) causing patients requiring difficult surgery come to doctor B. We should either conditioned on this $Z$ or conditioned on difficulty to block the path from doctor to success rate from difficulty. So we should look at the segregated data.*\n",
    "\n",
    "![](./123b.png)"
   ]
  },
  {
   "cell_type": "markdown",
   "metadata": {},
   "source": [
    "## 1.2.4\n",
    "In an attempt to estimate the effectiveness of a new drug, a randomized experiment is conducted. In all, 50% of the patients are assigned to receive the new drug and 50% a placebo. A day before the actual experiment, a nurse hands out lollipos to some patients who show signs of depression, mostly among those who have been assigned to treatment the next day (i.e., the nurse's round happened to take her through the treatment-bound ward). Strangely, the experimental data revealed a Simpson's reversal: Although the drug proved benificial to the population as a whole, drug takers were less likely to recover than non-takers, among both lollipop receivers and lollipop nonreceivers. Assuming that lollipop sucking in itself has no effect whatsover on recovery, answer the following questions:\n",
    "\n",
    "### a. Is the drug beneficial to the population as a whole or harmful?\n",
    "Beneficial. The rounding of the nurse affects both the treatment assignment and the lollipop giving, making them associative. But the decision of giving treatments is still random and does not depend on depression. Since lollipop does not affect the recovery, there is no spurious effect. So the drug is beneficial to the population.\n",
    "\n",
    "### b. Does your answer contradict our gender example, where sex-specific data was deemed more appropriate?\n",
    "Yes. In the example, gender is a confounder between treatment and outcome, so we should look at the segregated data (i.e., conditioned on the gender) to retrive the causal effect between treatment and outcome. In this case, conditioned on lollipop receiving makes treatment assignment dependent with depression, so the segregated results may have spurious effect.\n",
    "\n",
    "### c. Draw a graph (informally) that more or less captures the story. (Look ahead to Section 1.4 if you wish.)\n",
    "![](./124c.png)\n",
    "\n",
    "From the graph, lollipop is a collider on the path from drug to the recovery through depression. Unconditioned on lollipop block the path, so the result in the general population reflects the causal effect of drug on the recovery rate. \n",
    "\n",
    "### d. How would you explain the emergence of Simpson's reversal in this story?\n",
    "Disregarding lollipop receive, depression should be independent of drug receive. But dividing the population into subgroups by lollipop receive makes depression dependent of drug. It could be in both lollipop receiver and non-receiver, treated group has a higher ratio of depression, so that the recovery rate is lower than control group. But combining the subgroups, the ratio of depression is similar in treated/control group, showing the true effect of drug on the recovery.\n",
    "\n",
    "### e. Would your answer change if the lollipops were handed out (by the same criterion) a day after the study?\n",
    "In this case, lollipop receiving does not affect drug use. If drug assignment does not affect depression, then there's no reason looking at the subgroups. If drug assignment affects depression, e.g., though recovery using drug is both lower among lollipop receiver and non-receiver, maybe placebo leads to more depression -> more ratio of lollipop receiver and the lower recovery rate is multiplied by a larger weight for placebo taker, so in the whole population, placebo taker appears worse than drug taker. In this case, we should still look at the general number to select a drug. Therefore, the answer will not change."
   ]
  },
  {
   "cell_type": "markdown",
   "metadata": {},
   "source": [
    "## 1.5.1\n",
    "(a) \n",
    "![](./151.png)"
   ]
  },
  {
   "cell_type": "markdown",
   "metadata": {},
   "source": [
    "(b) $E[Z|Y=3] = E[\\frac{Y}{16} + U_z |Y=3] = 3/16$ \n",
    "\n",
    "(c) $E[Z|X=3] = E[\\frac{Y}{16} + U_z |X=3] = E[\\frac{1}{16} (\\frac{1}{3} X + U_y) + U_z | X=3] = 1/16$ \n",
    "\n",
    "(d) $E[Z|X=1, Y=3] = E[\\frac{Y}{16} + U_z |X=1, Y=3] = 3/16$\n",
    "\n",
    "(e.i) $E[X | Y =2] = E[3Y- U_y | Y = 2] = 6$\n"
   ]
  },
  {
   "cell_type": "markdown",
   "metadata": {},
   "source": [
    "(e.ii) Using multiple regression, we have\n",
    "$$\n",
    "R_{XY \\cdot Z} = \\frac{\\sigma^2_Z \\sigma_{XY} - \\sigma_{XZ}\\sigma_{YZ}}{\\sigma^2_X \\sigma^2_Z - \\sigma^2_{XZ}} \\\\\n",
    "R_{YZ \\cdot X} = \\frac{\\sigma^2_X \\sigma_{YZ} - \\sigma_{XZ}\\sigma_{XY}}{\\sigma^2_X \\sigma^2_Z - \\sigma^2_{XZ}}\n",
    "$$\n",
    "\n",
    "We can obtain the terms on the above equations\n",
    "$$\n",
    "\\sigma^2_X = \\sigma^2_{U_X} = 1\n",
    "$$\n",
    "$$\n",
    "\\sigma^2_Z = \\sigma^2_{1/48 U_X + 1/16 U_Y + U_Z} = \\frac{1}{48^2} + \\frac{1}{16^2} + 1\n",
    "$$\n",
    "$$\n",
    "\\begin{align}\n",
    "\\begin{split}\n",
    "\\sigma_{XY} &= E(XY) - E(X)E(Y) \\\\\n",
    "&= E[U_X \\cdot (1/3 U_X + U_Y)] - E[U_X] E[1/3 U_X + U_Y] \\\\\n",
    "&= 1/3\n",
    "\\end{split}\n",
    "\\end{align}\n",
    "$$\n",
    "$$\n",
    "\\begin{align}\n",
    "\\begin{split}\n",
    "\\sigma_{XZ} &= E(XZ) - E(X)E(Z) \\\\\n",
    "&= E[U_X \\cdot (1/48 U_X + 1/16 U_Y + U_Z)]\\\\\n",
    "&= \\frac{1}{48}\n",
    "\\end{split}\n",
    "\\end{align}\n",
    "$$\n",
    "$$\n",
    "\\begin{align}\n",
    "\\begin{split}\n",
    "\\sigma_{YZ} &= E[YZ] - E[Y]E[Z] \\\\\n",
    "&= E[(1/48 U_X + 1/16 U_Y + U_Z) \\cot (1/3 U_X + U_Y)] \\\\\n",
    "&= \\frac{1}{48 \\cdot 3} + \\frac{1}{16}\n",
    "\\end{split}\n",
    "\\end{align}\n",
    "$$\n",
    "\n",
    "Substitute $R_{XY\\cdot Z}$ and $R_{YZ \\cdot X}$ with these values, \n",
    "$$\n",
    "R_{XY\\cdot Z} = 0.3320 \\\\\n",
    "R_{YZ\\cdot X} = 0.0622\n",
    "$$\n",
    "So, the best guess of $Y$ is $Y=0.3320 * 1 + 0.0622 * 3 = 0.5188$"
   ]
  }
 ],
 "metadata": {
  "kernelspec": {
   "display_name": "Python 3.7.4 ('base')",
   "language": "python",
   "name": "python3"
  },
  "language_info": {
   "codemirror_mode": {
    "name": "ipython",
    "version": 3
   },
   "file_extension": ".py",
   "mimetype": "text/x-python",
   "name": "python",
   "nbconvert_exporter": "python",
   "pygments_lexer": "ipython3",
   "version": "3.7.4"
  },
  "orig_nbformat": 4,
  "vscode": {
   "interpreter": {
    "hash": "91e6be7ee587996205bca879476f0ad0210c1fee519e6cd0b1e3842a2d5e20d8"
   }
  }
 },
 "nbformat": 4,
 "nbformat_minor": 2
}
