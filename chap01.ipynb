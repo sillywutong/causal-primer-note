{
 "cells": [
  {
   "cell_type": "markdown",
   "metadata": {},
   "source": [
    "# 1.2\n",
    "## 1.2.3\n",
    "(a) There are two treatments used on kidney stones: Treatment $A$ and Treatment $B$. Doctors are more likely to use Treatment $B$ on small stones. Should a patient who doesn't know the size of his or her stone examine the general population data, or the stone size-specific data when determining which treatment will be more effective?\n",
    "\n",
    "*The size of the kidney stones will affect the application of treatments and the effects, so it's a confounder between treatment and the outcome. We should look at the segregated data (i.e., conditioned on the confounder) to determine which treatment to use.*"
   ]
  },
  {
   "cell_type": "markdown",
   "metadata": {},
   "source": [
    "(b) There are two doctors in a small town. Each has performed 100 surgeries in his career, which are of two types: one very difficult surgery and one very easy surgery. The first doctor performs the easy surgery much more often than the difficult surgery and the second doctor performs the difficult surgery more often than the easy surgery. You need surgery, but you do not know whether your case is easy or difficult. Should you consult the success rate of each doctor over all cases, or should you consult their success rates for the easy and difficult cases separately, to maximize the chance of a successful surgery?\n",
    "\n",
    "*The doctors are associated with the difficulty of the surgery. Although there is no clear causal effect of difficulty on the choice of doctors, there might be some reason ($Z$) causing patients requiring difficult surgery come to doctor B. We should either conditioned on this $Z$ or conditioned on difficulty to block the path from doctor to success rate from difficulty. So we should look at the segregated data.*\n",
    "\n",
    "![](./123b.png)"
   ]
  },
  {
   "cell_type": "markdown",
   "metadata": {},
   "source": [
    "## 1.2.4\n",
    "In an attempt to estimate the effectiveness of a new drug, a randomized experiment is conducted. In all, 50% of the patients are assigned to receive the new drug and 50% a placebo. A day before the actual experiment, a nurse hands out lollipos to some patients who show signs of depression, mostly among those who have been assigned to treatment the next day (i.e., the nurse's round happened to take her through the treatment-bound ward). Strangely, the experimental data revealed a Simpson's reversal: Although the drug proved benificial to the population as a whole, drug takers were less likely to recover than non-takers, among both lollipop receivers and lollipop nonreceivers. Assuming that lollipop sucking in itself has no effect whatsover on recovery, answer the following questions:\n",
    "\n",
    "### a. Is the drug beneficial to the population as a whole or harmful?\n",
    "Beneficial. The rounding of the nurse affects both the treatment assignment and the lollipop giving, making them associative. But the decision of giving treatments is still random and does not depend on depression. Since lollipop does not affect the recovery, there is no spurious effect. So the drug is beneficial to the population.\n",
    "\n",
    "### b. Does your answer contradict our gender example, where sex-specific data was deemed more appropriate?\n",
    "Yes. In the example, gender is a confounder between treatment and outcome, so we should look at the segregated data (i.e., conditioned on the gender) to retrive the causal effect between treatment and outcome. In this case, conditioned on lollipop receiving makes treatment assignment dependent with depression, so the segregated results may have spurious effect.\n",
    "\n",
    "### c. Draw a graph (informally) that more or less captures the story. (Look ahead to Section 1.4 if you wish.)\n",
    "![](./124c.png)\n",
    "\n",
    "From the graph, lollipop is a collider on the path from drug to the recovery through depression. Unconditioned on lollipop block the path, so the result in the general population reflects the causal effect of drug on the recovery rate. \n",
    "\n",
    "### d. How would you explain the emergence of Simpson's reversal in this story?\n",
    "Disregarding lollipop receive, depression should be independent of drug receive. But dividing the population into subgroups by lollipop receive makes depression dependent of drug. It could be in both lollipop receiver and non-receiver, treated group has a higher ratio of depression, so that the recovery rate is lower than control group. But combining the subgroups, the ratio of depression is similar in treated/control group, showing the true effect of drug on the recovery.\n",
    "\n",
    "### e. Would your answer change if the lollipops were handed out (by the same criterion) a day after the study?\n",
    "In this case, lollipop receiving does not affect drug use. If drug assignment does not affect depression, then there's no reason looking at the subgroups. If drug assignment affects depression, e.g., though recovery using drug is both lower among lollipop receiver and non-receiver, maybe placebo leads to more depression -> more ratio of lollipop receiver and the lower recovery rate is multiplied by a larger weight for placebo taker, so in the whole population, placebo taker appears worse than drug taker. In this case, we should still look at the general number to select a drug. Therefore, the answer will not change."
   ]
  },
  {
   "cell_type": "markdown",
   "metadata": {},
   "source": [
    "## 1.5.1\n",
    "(a) \n",
    "![](./151.png)"
   ]
  },
  {
   "cell_type": "markdown",
   "metadata": {},
   "source": [
    "(b) $E[Z|Y=3] = E[\\frac{Y}{16} + U_z |Y=3] = 3/16$ \n",
    "\n",
    "(c) $E[Z|X=3] = E[\\frac{Y}{16} + U_z |X=3] = E[\\frac{1}{16} (\\frac{1}{3} X + U_y) + U_z | X=3] = 1/16$ \n",
    "\n",
    "(d) $E[Z|X=1, Y=3] = E[\\frac{Y}{16} + U_z |X=1, Y=3] = 3/16$\n",
    "\n",
    "(e.i) $E[X | Y =2] = E[3Y- U_y | Y = 2] = 6$\n"
   ]
  },
  {
   "cell_type": "markdown",
   "metadata": {},
   "source": [
    "(e.ii) Using multiple regression, we have\n",
    "$$\n",
    "R_{XY \\cdot Z} = \\frac{\\sigma^2_Z \\sigma_{XY} - \\sigma_{XZ}\\sigma_{YZ}}{\\sigma^2_X \\sigma^2_Z - \\sigma^2_{XZ}}$$\n",
    "$$\n",
    "R_{YZ \\cdot X} = \\frac{\\sigma^2_X \\sigma_{YZ} - \\sigma_{XZ}\\sigma_{XY}}{\\sigma^2_X \\sigma^2_Z - \\sigma^2_{XZ}}\n",
    "$$\n",
    "\n",
    "We can obtain the terms on the above equations\n",
    "$$\n",
    "\\sigma^2_X = \\sigma^2_{U_X} = 1\n",
    "$$\n",
    "$$\n",
    "\\sigma^2_Z = \\sigma^2_{1/48 U_X + 1/16 U_Y + U_Z} = \\frac{1}{48^2} + \\frac{1}{16^2} + 1\n",
    "$$\n",
    "$$\n",
    "\\begin{align}\n",
    "\\begin{split}\n",
    "\\sigma_{XY} &= E(XY) - E(X)E(Y) \\\\\n",
    "&= E[U_X \\cdot (1/3 U_X + U_Y)] - E[U_X] E[1/3 U_X + U_Y] \\\\\n",
    "&= 1/3\n",
    "\\end{split}\n",
    "\\end{align}\n",
    "$$\n",
    "$$\n",
    "\\begin{align}\n",
    "\\begin{split}\n",
    "\\sigma_{XZ} &= E(XZ) - E(X)E(Z) \\\\\n",
    "&= E[U_X \\cdot (1/48 U_X + 1/16 U_Y + U_Z)]\\\\\n",
    "&= \\frac{1}{48}\n",
    "\\end{split}\n",
    "\\end{align}\n",
    "$$\n",
    "$$\n",
    "\\begin{align}\n",
    "\\begin{split}\n",
    "\\sigma_{YZ} &= E[YZ] - E[Y]E[Z] \\\\\n",
    "&= E[(1/48 U_X + 1/16 U_Y + U_Z) \\cot (1/3 U_X + U_Y)] \\\\\n",
    "&= \\frac{1}{48 \\cdot 3} + \\frac{1}{16}\n",
    "\\end{split}\n",
    "\\end{align}\n",
    "$$\n",
    "\n",
    "Substitute $R_{XY\\cdot Z}$ and $R_{YZ \\cdot X}$ with these values, \n",
    "$$\n",
    "R_{XY\\cdot Z} = 0.3320\n",
    "$$\n",
    "$$\n",
    "R_{YZ\\cdot X} = 0.0622\n",
    "$$\n",
    "So, the best guess of $Y$ is $Y=0.3320 * 1 + 0.0622 * 3 = 0.5188$"
   ]
  },
  {
   "cell_type": "markdown",
   "metadata": {},
   "source": [
    "## 1.5.2\n",
    "### (a) \n",
    "Information we have\n",
    "| 0   | 1 |\n",
    "|-----|---|\n",
    "| 1-r | r |\n",
    "\n",
    "\n",
    "\n"
   ]
  },
  {
   "cell_type": "markdown",
   "metadata": {},
   "source": [
    "\n",
    "| x\\z | 0       | 1       |\n",
    "|-----|:-------:|:-------:|\n",
    "| 0   | 1-$q_1$ | 1-$q_2$ |\n",
    "| 1   | $q_1$   | $q_2$   |"
   ]
  },
  {
   "cell_type": "markdown",
   "metadata": {},
   "source": [
    "| z | x | $y_0 \\| x, z$   | $y_1\\|x, z$ |\n",
    "|---|---|---------|-------|\n",
    "| 0 | 0 | $1-p_1$ | $p_1$ |\n",
    "| 0 | 1 | $1-p_2$ | $p_2$ |\n",
    "| 1 | 0 | $1-p_3$ | $p_3$ |\n",
    "| 1 | 1 | $1-p_4$ | $p_4$ |"
   ]
  },
  {
   "cell_type": "markdown",
   "metadata": {},
   "source": [
    "Following $p(x, y, z) = p(z) \\cdot p(x|z) \\cdot p(y|z, x)$, we have\n",
    "\n",
    "| z | x | y | p(x, y, z)               |\n",
    "|---|---|---|--------------------------|\n",
    "| 0 | 0 | 0 | $(1-r)(1-q_1)(1-p_1)$    |\n",
    "| 0 | 0 | 1 | $(1-r)(1-q_1)p_1$        |\n",
    "| 0 | 1 | 0 | $(1-r)q_1(1-p_2)$        |\n",
    "| 0 | 1 | 1 | $(1-r)q_1 \\cdot p_2$     |\n",
    "| 1 | 0 | 0 | $r (1-q_2) (1-p_3)$      |\n",
    "| 1 | 0 | 1 | $r (1-q_2) p_3$          |\n",
    "| 1 | 1 | 0 | $r q_2 (1-p_4)$          |\n",
    "| 1 | 1 | 1 | $r \\cdot q_2 \\cdot p_4 $ |"
   ]
  },
  {
   "cell_type": "markdown",
   "metadata": {},
   "source": [
    "$$ \\begin{align}\n",
    "\\begin{split}\n",
    "p(x, y) &= p(x, y, z=1) + p(x, y, z=0)\n",
    "\\end{split}\n",
    "\\end{align}\n",
    "$$\n",
    "\n",
    "| x | y | p(x, y)                                      |\n",
    "|---|---|----------------------------------------------|\n",
    "| 0 | 0 | $(1-r)(1-q_1) (1-p_1) + r(1-q_2)(1-p_3)$     |\n",
    "| 0 | 1 | $(1-r)(1-q_1)p_1 + r (1-q_2) p_3$        |\n",
    "| 1 | 0 | $(1-r)q_1(1-p_2) + r q_2 (1-p_4)$            |\n",
    "| 1 | 1 | $(1-r)q_1 \\cdot p_2 + r \\cdot q_2 \\cdot p_4$ |"
   ]
  },
  {
   "cell_type": "markdown",
   "metadata": {},
   "source": [
    "$$ p(x, z) = p(x, z, y=1) + p(x, z, y=0) = p(z) p(x|z)$$\n",
    "\n",
    "| z | x | p(z, x)                                      |\n",
    "|---|---|----------------------------------------------|\n",
    "| 0 | 0 | $(1-r)(1-q_1)$     |\n",
    "| 0 | 1 | $(1-r)q_1$        |\n",
    "| 1 | 0 | $r(1-q_2)$            |\n",
    "| 1 | 1 | $r \\cdot q_2$ |"
   ]
  },
  {
   "cell_type": "markdown",
   "metadata": {},
   "source": [
    "$$ p(y, z) = p(x=0, y, z) + p(x=1, y, z)$$\n",
    "\n",
    "| z | y | p(z, y)                                      |\n",
    "|---|---|----------------------------------------------|\n",
    "| 0 | 0 | $(1-r)(1-q_1)(1-p_1) + (1-r) q_1 (1-p_2)$    |\n",
    "| 0 | 1 | $(1-r)(1-q_1)p_1 + (1-r) q_1 \\cdot p_2$      |\n",
    "| 1 | 0 | $r(1-q_2)(1-p_3) + r \\cdot q_2 (1-p_4)$      |\n",
    "| 1 | 1 | $r \\cdot (1-q_2) \\cdot p_3 + r\\cdot q_2 \\cdot p_4$ |"
   ]
  },
  {
   "cell_type": "markdown",
   "metadata": {},
   "source": [
    "### (b)\n",
    "\n",
    "1. $p(y_1| x_1, z_1) - p(y_1 | x_0, z_1) = p_4 - p_3 $\n",
    "2. $p(y_1| x_1, z_0) - p(y_1 | x_0, z_0) = p_2 - p_1 $\n",
    "3. \n",
    "$$\n",
    "\\begin{align}\n",
    "\\begin{split}\n",
    "p(y|x) &= \\frac{p(x, y)}{p(x|z) p(z)} \\\\\n",
    "&= \\frac{p(x, y, z_0) + p(x, y, z_1)}{ p(x|z_0)p(z_0) + p(x|z_1) p (z_1)}\n",
    "\\end{split}\n",
    "\\end{align}\n",
    "$$\n",
    "\n",
    "$$\n",
    "\\begin{align}\n",
    "\\begin{split}\n",
    "p(y_1|x_1) &= \\frac{p(x_1, y_1)}{p(x_1|z) p(z)} \\\\\n",
    "&= \\frac{p(x_1, y_1, z_0) + p(x_1, y_1, z_1)}{ p(x_1|z_0)p(z_0) + p(x_1|z_1) p (z_1)} \\\\\n",
    "&= \\frac{(1-r)q_1 \\cdot p_2 + r \\cdot q_2 \\cdot p_4}{ (1-r) \\cdot q_1 + r \\cdot q_2}\n",
    "\\end{split}\n",
    "\\end{align}\n",
    "$$\n",
    "\n",
    "\n",
    "$$\n",
    "\\begin{align}\n",
    "\\begin{split}\n",
    "p(y_1|x_0) &= \\frac{p(x_0, y_1)}{p(x_0|z) p(z)} \\\\\n",
    "&= \\frac{(1-r)(1-q_1)p_1 + r (1-q_2)p_3}{ (1-r) \\cdot (1-q_1) + r \\cdot (1-q_2)}\n",
    "\\end{split}\n",
    "\\end{align}\n",
    "$$"
   ]
  },
  {
   "cell_type": "markdown",
   "metadata": {},
   "source": [
    "### (c)\n",
    "To generate a Simpson's paradox, we should make the group with drug have higher ratio of having the syndrom. That is, people having the syndrom should have higher probability to take the drug, and people having the syndrom also have higher probability to die. $p(x_1|z_1)=q_2 > p(x_1|z_0) = q_1$, and $p_3 > p_1, p_4 > p_2 $. And to observe paradox, we have $p_4-p_3 < 0 $ and $p_2-p_1 < 0$. So $p_3 > p_4 > p_1 > p_2$.\n",
    "\n",
    "Let $q_2 = 0.85, q_1=0.15, p_3 = 0.4, p_4 = 0.3, p_1 = 0.20, p_2 = 0.1$, and $r = 0.5$, with a sampled population of 1000:"
   ]
  },
  {
   "cell_type": "markdown",
   "metadata": {},
   "source": [
    "| |drug | no-drug |\n",
    "|:--:|:--:| :--:|\n",
    "| symptom | 30%  (128 / 425)| 40% (30 / 75)|\n",
    "| no-symptom| 10% ( 8 /75) | 20% ( 85 /425)|\n",
    "| death rate | 27.2% (136/500) | 23% (115/500)|\n",
    "\n",
    "Consulting on the general results, using drug has a higher death rate; while looking at the segregated data, using drug is beneficial for both people with and without the symptom."
   ]
  }
 ],
 "metadata": {
  "kernelspec": {
   "display_name": "Python 3.7.4 ('base')",
   "language": "python",
   "name": "python3"
  },
  "language_info": {
   "codemirror_mode": {
    "name": "ipython",
    "version": 3
   },
   "file_extension": ".py",
   "mimetype": "text/x-python",
   "name": "python",
   "nbconvert_exporter": "python",
   "pygments_lexer": "ipython3",
   "version": "3.7.4"
  },
  "orig_nbformat": 4,
  "vscode": {
   "interpreter": {
    "hash": "91e6be7ee587996205bca879476f0ad0210c1fee519e6cd0b1e3842a2d5e20d8"
   }
  }
 },
 "nbformat": 4,
 "nbformat_minor": 2
}
