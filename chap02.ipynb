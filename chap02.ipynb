{
 "cells": [
  {
   "cell_type": "markdown",
   "metadata": {},
   "source": [
    "# 2.5.1\n",
    "\n",
    "## a. \n",
    "Which of the arrows in Figure 2.9 can be reversed without being detected by any statistical test? [Hint: Use the criterion for equivalence class.]\n",
    "\n",
    "*According to the definition in the book, I think Z1 -> X can be reversed. Because Z1->X and Z3->X forms a collider though, they (Z1 and Z3) are adjacent, so it's not a v-structure? So we can reverse Z1 -> X to be X->Z1 without changing other v-structures. But according to others' solution and dagitty, no arrows can be reversed.*"
   ]
  },
  {
   "cell_type": "markdown",
   "metadata": {},
   "source": [
    "## b. \n",
    "List all graphs that are observationally equivalent to the one in Figure 2.9.\n",
    "\n",
    "*I think this is equivalent (will manually check its d-separation set later)*\n",
    "\n",
    "![](./251b.png)"
   ]
  },
  {
   "cell_type": "markdown",
   "metadata": {},
   "source": [
    "## c.\n",
    "List the arrows in Figure 2.9 whose directionality can be determined from nonexperimental data.\n",
    "\n",
    "*Since I think Z1->X can be reversed and equivalent to the original, all arrows except Z1->X can be determined.*"
   ]
  },
  {
   "cell_type": "markdown",
   "metadata": {},
   "source": [
    "## d.\n",
    "Write down a regression equation for Y such that, if a certain coefficient in that equation is nonzero, the model of Figure 2.9 is wrong.\n",
    "\n",
    "*From Figure 2.9, Y is independent of X conditioned on W, $Z_3$, $Z_1$ (or $Z_2). So, we can write down: *\n",
    "\n",
    "$$Y = aX + bW + cZ_3 + d Z_2$$\n",
    "\n",
    "*if coefficient $a$ is non-zero, it means Y is dependent of X given W, $Z_3$ and $Z_2$, and the model is wrong.*"
   ]
  },
  {
   "cell_type": "markdown",
   "metadata": {},
   "source": [
    "## e.\n",
    "Repeat question (d) for variable Z3.\n",
    "\n",
    "*$Z_3$ is independent of W given $X$ and $Z_2$. So we can write down:*\n",
    "\n",
    "$$ Z_3 = aW + bX + cZ_2$$\n",
    "\n",
    "*If $a$ is not zero, then $Z_3$ and W is not conditionally independent, so the model is wrong.*"
   ]
  },
  {
   "cell_type": "markdown",
   "metadata": {},
   "source": [
    "## f.\n",
    "Repeat question (e) assuming the X is not measured.\n",
    "\n",
    "*If we can not condition on X , then $Z_3$ can't be independent of any other variables conditionally. We can't have the same test as above.*"
   ]
  },
  {
   "cell_type": "markdown",
   "metadata": {},
   "source": [
    "## g. \n",
    "\n",
    "How many regression equations of the type described in (d) and (e) are needed to ensure that the model is fully tested, namely, that if it passes all these tests it cannot be refuted by additional tests of these kind. [Hint: Ensure that you test every vanishing partial regression coefficient that is implied by the product decomposition (1.29).]\n",
    "\n",
    "*All the conditionally independency we can find from the figure:*\n",
    "Y, X | W, $Z_1$, $Z_3$\n",
    "\n",
    "Y, $Z_1$ | W, $Z_2, Z_3$\n",
    "\n",
    "$Z_1$, $Z_2$ \n",
    "\n",
    "$Z_1$, W | X\n",
    "\n",
    "$Z_2$, X | $Z_3$, $Z_1$\n",
    "\n",
    "$Z_2$, W | X\n",
    "\n",
    "$Z_3$, W | X, $Z_2$\n",
    "\n",
    "*It could be 7 equations to make sure that the model is fully tested. But I'm not sure that is there any equation among these that is not necessary.*"
   ]
  }
 ],
 "metadata": {
  "language_info": {
   "name": "python"
  },
  "orig_nbformat": 4
 },
 "nbformat": 4,
 "nbformat_minor": 2
}
