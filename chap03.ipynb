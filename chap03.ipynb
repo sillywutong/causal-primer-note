{
 "cells": [
  {
   "cell_type": "markdown",
   "metadata": {},
   "source": [
    "# 3.2.1"
   ]
  },
  {
   "cell_type": "markdown",
   "metadata": {},
   "source": [
    "## (a)\n",
    "Hypothetically simulate the intervention do(x) on the model (so that z is independent of x): \n",
    "\n",
    "$$\n",
    "\\begin{align}\n",
    "\\begin{split}\n",
    "P(y=1| do(x=1)) &= P(y=1 | z=0, x=1) P(z=0 | x=1) + P(y=1 | z=1, x=1) P(z=1 | x=1) \\\\\n",
    "&= p_2 (1-r) + p_4 r \\\\\n",
    "\n",
    "P(y=0| do(x=1)) &= P(y=0 | z=0, x=1) P(z=0 | x=1) + P(y=0 | z=1, x=1) P(z=1 | x=1) \\\\\n",
    "&= (1-p_2) (1-r) + (1-p_4) r \\\\\n",
    "\n",
    "P(y=1| do(x=0)) &= P(y=1 | z=0, x=0) P(z=0 | x=0) + P(y=1 | z=1, x=0) P(z=1 | x=0) \\\\\n",
    "&= p_1 (1-r) + p_3 r \\\\\n",
    "\n",
    "P(y=0| do(x=0)) &= P(y=0 | z=0, x=0) P(z=0 | x=0) + P(y=0 | z=1, x=0) P(z=1 | x=0) \\\\\n",
    "&= (1-p_1) (1-r) + (1-p_3) r\n",
    "\\end{split}\n",
    "\\end{align}\n",
    "$$"
   ]
  },
  {
   "cell_type": "markdown",
   "metadata": {},
   "source": [
    "## (b)\n",
    "In (a) I already used the adjustment formula."
   ]
  },
  {
   "cell_type": "markdown",
   "metadata": {},
   "source": [
    "## (c)\n",
    "\n",
    "$$\n",
    "\\begin{align}\n",
    "\\begin{split}\n",
    "ACE &= P(y_1|do(x_1)) - P(y_1 |do(x_0)) \\\\\n",
    "&= p_2 (1-r) + p_4\\cdot r - p_1(1-r) - p_3 \\cdot r \\\\\n",
    "\\end{split}\n",
    "\\end{align}\n",
    "$$\n",
    "\n",
    "$$\n",
    "\\begin{align}\n",
    "\\begin{split}\n",
    "RD &= P(y_1|x_1) - P(y_1 | x_0) \\\\\n",
    "&= \\frac{(1-r)q_1 p_2 + r q_2 p_4}{(1-r)q_1 + r q_2} \\\\\n",
    "&- \\frac{(1-r)(1-q_1) p_1 + r (1-q_2) p_3}{(1-r)(1-q_1) + r (1-q_2)}\\\\\n",
    "&= p_2 (1-r)\\frac{q_1}{(1-r)q_1 + rq_2} + p_4 r \\frac{q_2} {(1-r)q_1 + rq_2} \\\\\n",
    "&- p_1 (1-r) \\frac{1-q_1}{(1-r)(1-q_1) + r (1-q_2)} + p_3 r \\frac{1-q_2}{(1-r)(1-q_1) + r (1-q_2)}\\\\\n",
    "\\end{split}\n",
    "\\end{align}\n",
    "$$\n"
   ]
  },
  {
   "cell_type": "markdown",
   "metadata": {},
   "source": [
    "We can see that $RD$ adds a weight for each term in $ACE$, and the weight is actually $\\frac{p(x|z)}{p(x)}$ when $X$ and $Z$ is the corresponding values. To minimize the difference, we should let the weights in $RD$ equals to 1, i.e., let $p(x|z) = p(x)$, so we should let $X$ and $Z$ be independent."
   ]
  },
  {
   "cell_type": "markdown",
   "metadata": {},
   "source": [
    "## (d)\n",
    "Let $q_2 = 0.85, q_1 = 0.15, p_3 = 0.4, p_4 = 0.3, p_1=0.2, p_2=0.1$, and $r=0.5$, with a sampled population of 1000:\n",
    "\n",
    "| | drug | no-drug |\n",
    "|:--:|:--:|:--:|\n",
    "|symptom|\t30% (128 / 425)\t|40% (30 / 75)|\n",
    "|no-symptom|\t10% ( 8 /75)\t|20% ( 85 /425)|\n",
    "|death rate|\t27.2% (136/500)\t|23% (115/500)|"
   ]
  },
  {
   "cell_type": "markdown",
   "metadata": {},
   "source": [
    "$$ ACE = p_2 (1-r) + p_4\\cdot r - p_1(1-r) - p_3 \\cdot r = -10\\% $$"
   ]
  },
  {
   "cell_type": "markdown",
   "metadata": {},
   "source": [
    "Calculating from the segregated data:\n",
    "\n",
    "$$\n",
    "ACE = (30\\% - 40\\%) * 0.5 + (10\\% - 20\\%) * 0.5  = -10\\%\n",
    "$$"
   ]
  },
  {
   "cell_type": "markdown",
   "metadata": {},
   "source": [
    "# 3.3.1"
   ]
  },
  {
   "cell_type": "markdown",
   "metadata": {},
   "source": [
    "## (a)\n",
    "{Z, B}, {Z,C}, {Z, A}, {Z, D}\n",
    "\n",
    "{Z, A, B}, {Z, A, C}, {Z, A, D}, {Z, B, C}, {Z, B, D}, {Z, C, D}\n",
    "\n",
    "{Z, A, B, C}, {Z, A, B, D}, {Z, A, C, D}, {Z, B, C, D}, {Z, A, B, C, D}"
   ]
  },
  {
   "cell_type": "markdown",
   "metadata": {},
   "source": [
    "## (b)\n",
    "{Z, B}, {Z, C}, {Z, A}, {Z, D}"
   ]
  },
  {
   "cell_type": "markdown",
   "metadata": {},
   "source": [
    "## (c)\n",
    "For the effect of D-> Y: {C}, {Z, B}, {Z, A}, {Z, W}, {Z, X}.\n",
    "\n",
    "For {W, D} -> Y: {Z}, {X, C}"
   ]
  },
  {
   "cell_type": "markdown",
   "metadata": {},
   "source": [
    "# 3.3.2"
   ]
  },
  {
   "cell_type": "markdown",
   "metadata": {},
   "source": [
    "## (a)\n",
    "![](332.png)"
   ]
  },
  {
   "cell_type": "markdown",
   "metadata": {},
   "source": [
    "## (b)\n",
    "\n",
    "The causal effect of Plan -> Weight Gain is confounded by the initial weights, since there is a path Plan <- W0 -> Wf. We should condition on the W0 to block this path. So statiscian 2 is correct."
   ]
  },
  {
   "cell_type": "markdown",
   "metadata": {},
   "source": [
    "## (c)\n",
    "Lord's paradox and Simpson's paradox is caused by the same causal story: spurious effects aroused by confounding variables, and true causal effects should be obtained by conditioned on confounders and look at the subgroup data. However in Simpson's paradox, confounders are categorical but in Lord's, confounders and outcomes are continuous variables."
   ]
  },
  {
   "cell_type": "markdown",
   "metadata": {},
   "source": [
    "# 3.3.3\n",
    "## (a)\n",
    "Z is an unmeasurable variable that cause the association between giving lollipop and giving drugs (like the rounding of the nurse.).\n",
    "![](./333a.png)"
   ]
  },
  {
   "cell_type": "markdown",
   "metadata": {},
   "source": [
    "## (b)\n",
    "To obtain drug->recover, we don't need to adjust for anything, because lollipop giving is the collider."
   ]
  },
  {
   "cell_type": "markdown",
   "metadata": {},
   "source": [
    "## (c)\n",
    "$$ P(Recovery | do(drug)) = P(Recovery | Drug)$$"
   ]
  },
  {
   "cell_type": "markdown",
   "metadata": {},
   "source": [
    "## (d)\n",
    "![](333d.png)\n",
    "\n",
    "We don't need to adjust for anything. So the adjustment formula is:\n",
    "$$ P(Recovery | do(Drug)) = P(Recovery | Drug)$$"
   ]
  }
 ],
 "metadata": {
  "kernelspec": {
   "display_name": "Python 3.7.4 ('base')",
   "language": "python",
   "name": "python3"
  },
  "language_info": {
   "name": "python",
   "version": "3.7.4"
  },
  "orig_nbformat": 4,
  "vscode": {
   "interpreter": {
    "hash": "91e6be7ee587996205bca879476f0ad0210c1fee519e6cd0b1e3842a2d5e20d8"
   }
  }
 },
 "nbformat": 4,
 "nbformat_minor": 2
}
